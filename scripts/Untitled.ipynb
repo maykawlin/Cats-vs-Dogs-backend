{
 "cells": [
  {
   "cell_type": "code",
   "execution_count": 1,
   "id": "51927b5a-82d3-4e48-8d50-42ab356c5495",
   "metadata": {},
   "outputs": [],
   "source": [
    "from os.path import abspath, dirname, join\n",
    "import glob\n",
    "import os\n",
    "import numpy as np\n",
    "from PIL import Image"
   ]
  },
  {
   "cell_type": "code",
   "execution_count": 8,
   "id": "f6eaa0e5-e26d-4c9f-97fc-7ce840bb599f",
   "metadata": {},
   "outputs": [],
   "source": [
    "MODEL = join(dirname(dirname(abspath('Untitled.ipynb'))), 'conv2d-first-model')\n",
    "\n",
    "PATH_IMG = join(join(dirname(dirname(abspath('Untitled.ipynb'))), 'dataset'),'test1')\n",
    "\n",
    "IMG = glob.glob(join(PATH_IMG,'*.jpg'))[0]"
   ]
  },
  {
   "cell_type": "code",
   "execution_count": 3,
   "id": "03bd8582-a33a-4a1e-a4d6-d3199b835cca",
   "metadata": {},
   "outputs": [
    {
     "data": {
      "text/plain": [
       "('C:\\\\Users\\\\Maycon\\\\Projects\\\\Cats vs Dogs Classification\\\\ml-backend\\\\dataset\\\\test1',\n",
       " ['C:\\\\Users\\\\Maycon\\\\Projects\\\\Cats vs Dogs Classification\\\\ml-backend\\\\dataset\\\\test1\\\\1.jpg'])"
      ]
     },
     "execution_count": 3,
     "metadata": {},
     "output_type": "execute_result"
    }
   ],
   "source": [
    "PATH_IMG, IMG"
   ]
  },
  {
   "cell_type": "code",
   "execution_count": 9,
   "id": "cd83ee1d-d888-47ac-80cb-d54758f51186",
   "metadata": {},
   "outputs": [
    {
     "data": {
      "text/plain": [
       "83"
      ]
     },
     "execution_count": 9,
     "metadata": {},
     "output_type": "execute_result"
    }
   ],
   "source": [
    "len(IMG)"
   ]
  },
  {
   "cell_type": "code",
   "execution_count": 4,
   "id": "aa883fc3-f67e-4ba6-85a2-fe5d5bbd440e",
   "metadata": {},
   "outputs": [],
   "source": [
    "def prepro_img(path):\n",
    "    img = []\n",
    "    if len(path) == 1\n",
    "    for i in range(len(path)):\n",
    "        print(path[i])\n",
    "        print(r'{}'.format(path[i]))\n",
    "        image = Image.open(r'{}'.format(path[i])).resize((128, 128)).convert('RGBA')\n",
    "        image = np.array(image)\n",
    "        image = image[np.newaxis,...]\n",
    "        img.append(image)\n",
    "    return img"
   ]
  },
  {
   "cell_type": "code",
   "execution_count": 5,
   "id": "96939974-a175-43b1-b90e-f4cea4c3201a",
   "metadata": {},
   "outputs": [
    {
     "name": "stdout",
     "output_type": "stream",
     "text": [
      "C:\\Users\\Maycon\\Projects\\Cats vs Dogs Classification\\ml-backend\\dataset\\test1\\1.jpg\n",
      "C:\\Users\\Maycon\\Projects\\Cats vs Dogs Classification\\ml-backend\\dataset\\test1\\1.jpg\n"
     ]
    },
    {
     "data": {
      "text/plain": [
       "[array([[[[ 39,  66,  97, 255],\n",
       "          [ 37,  63, 100, 255],\n",
       "          [ 33,  58,  99, 255],\n",
       "          ...,\n",
       "          [ 75, 105, 205, 255],\n",
       "          [ 82, 115, 213, 255],\n",
       "          [ 58,  93, 184, 255]],\n",
       " \n",
       "         [[ 37,  64,  95, 255],\n",
       "          [ 37,  63, 100, 255],\n",
       "          [ 35,  60, 101, 255],\n",
       "          ...,\n",
       "          [ 80, 103, 204, 255],\n",
       "          [ 87, 113, 214, 255],\n",
       "          [ 62,  91, 186, 255]],\n",
       " \n",
       "         [[ 35,  62,  93, 255],\n",
       "          [ 35,  60,  98, 255],\n",
       "          [ 36,  61, 103, 255],\n",
       "          ...,\n",
       "          [ 78, 102, 200, 255],\n",
       "          [ 86, 111, 212, 255],\n",
       "          [ 64,  92, 190, 255]],\n",
       " \n",
       "         ...,\n",
       " \n",
       "         [[185, 192, 205, 255],\n",
       "          [189, 195, 210, 255],\n",
       "          [188, 194, 210, 255],\n",
       "          ...,\n",
       "          [190, 177, 172, 255],\n",
       "          [162, 149, 136, 255],\n",
       "          [158, 146, 124, 255]],\n",
       " \n",
       "         [[177, 181, 192, 255],\n",
       "          [185, 189, 201, 255],\n",
       "          [190, 193, 209, 255],\n",
       "          ...,\n",
       "          [150, 147, 135, 255],\n",
       "          [132, 126, 109, 255],\n",
       "          [129, 121, 100, 255]],\n",
       " \n",
       "         [[169, 173, 178, 255],\n",
       "          [183, 186, 196, 255],\n",
       "          [186, 188, 206, 255],\n",
       "          ...,\n",
       "          [181, 177, 179, 255],\n",
       "          [146, 140, 131, 255],\n",
       "          [100,  95,  72, 255]]]], dtype=uint8)]"
      ]
     },
     "execution_count": 5,
     "metadata": {},
     "output_type": "execute_result"
    }
   ],
   "source": [
    "prepro_img(IMG)"
   ]
  },
  {
   "cell_type": "code",
   "execution_count": null,
   "id": "bbeca1a4-be19-4f21-a8fe-4b6637d57882",
   "metadata": {},
   "outputs": [],
   "source": []
  }
 ],
 "metadata": {
  "kernelspec": {
   "display_name": "Python 3 (ipykernel)",
   "language": "python",
   "name": "python3"
  },
  "language_info": {
   "codemirror_mode": {
    "name": "ipython",
    "version": 3
   },
   "file_extension": ".py",
   "mimetype": "text/x-python",
   "name": "python",
   "nbconvert_exporter": "python",
   "pygments_lexer": "ipython3",
   "version": "3.9.7"
  }
 },
 "nbformat": 4,
 "nbformat_minor": 5
}
