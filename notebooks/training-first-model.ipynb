{
 "cells": [
  {
   "cell_type": "markdown",
   "id": "e62d532b-f480-4565-a8da-66fe8afbac37",
   "metadata": {},
   "source": [
    "# Importing Libraries"
   ]
  },
  {
   "cell_type": "code",
   "execution_count": 1,
   "id": "71c87cf3-1d66-4971-8925-a8b5e4bf7909",
   "metadata": {},
   "outputs": [],
   "source": [
    "import numpy as np\n",
    "import pandas as pd\n",
    "from pathlib import Path\n",
    "import tensorflow as tf\n",
    "import os.path\n",
    "from sklearn.model_selection import train_test_split"
   ]
  },
  {
   "cell_type": "code",
   "execution_count": 2,
   "id": "ee7ca716-43ce-4cfd-8fbb-2a1735eeb94e",
   "metadata": {},
   "outputs": [],
   "source": [
    "# diretory of the images\n",
    "image_dir = Path('./dataset')"
   ]
  },
  {
   "cell_type": "markdown",
   "id": "56e8b70a-24fa-4501-938a-86bfb03b0e69",
   "metadata": {},
   "source": [
    "# Working on Dataset"
   ]
  },
  {
   "cell_type": "code",
   "execution_count": 3,
   "id": "977faa24-cfe7-4495-8949-25f526652d94",
   "metadata": {
    "tags": []
   },
   "outputs": [],
   "source": [
    "# ** means any folder, * means any file with extension .jpg\n",
    "filepaths = list(image_dir.glob(r'train/*.jpg'))\n",
    "\n",
    "# Taking the name cat and dog from de images\n",
    "labels = list(map(lambda x: os.path.split(x)[1][:3],filepaths)) \n",
    "\n",
    "# Creating the labels \n",
    "filepaths = pd.Series(filepaths, name = 'Filepaths')\n",
    "labels = pd.Series(labels, name= 'Label')\n",
    "\n",
    "image_df = pd.concat([filepaths,labels], axis = 1).astype(str)"
   ]
  },
  {
   "cell_type": "code",
   "execution_count": 4,
   "id": "b0069643-047f-4dd7-bc7e-d70abe420fa3",
   "metadata": {},
   "outputs": [],
   "source": [
    "train_df,  test_df = train_test_split(image_df, train_size = 0.95, shuffle = True,  random_state = 1)"
   ]
  },
  {
   "cell_type": "markdown",
   "id": "1acc3862-ba9d-4c26-b12d-48d988089e65",
   "metadata": {},
   "source": [
    "# Load Image Data"
   ]
  },
  {
   "cell_type": "code",
   "execution_count": 5,
   "id": "374b895a-1727-4eaf-b335-9f8318d1a43f",
   "metadata": {},
   "outputs": [],
   "source": [
    "train_generator = tf.keras.preprocessing.image.ImageDataGenerator(\n",
    "    rescale = 1./255,\n",
    "    rotation_range=10,\n",
    "    horizontal_flip=True,\n",
    "    width_shift_range=0.2,\n",
    "    height_shift_range=0.2,\n",
    "    shear_range=0.1,\n",
    "    zoom_range=0.2,\n",
    "    validation_split = 0.15\n",
    ")\n",
    "\n",
    "test_generator = tf.keras.preprocessing.image.ImageDataGenerator(\n",
    "    rescale = 1./255,\n",
    ")"
   ]
  },
  {
   "cell_type": "code",
   "execution_count": 6,
   "id": "671656c0-1169-4c3f-92fc-2761e5401aec",
   "metadata": {},
   "outputs": [
    {
     "name": "stdout",
     "output_type": "stream",
     "text": [
      "Found 20188 validated image filenames belonging to 2 classes.\n",
      "Found 3562 validated image filenames belonging to 2 classes.\n",
      "Found 1250 validated image filenames belonging to 2 classes.\n"
     ]
    }
   ],
   "source": [
    "train_images = train_generator.flow_from_dataframe(\n",
    "    dataframe=train_df,\n",
    "    x_col='Filepaths',\n",
    "    y_col='Label',\n",
    "    target_size=(128,128),\n",
    "    color_mode='rgba',#rgba\n",
    "    class_mode='categorical',\n",
    "    batch_size = 32,\n",
    "    shuffle = True,\n",
    "    seed = 42,\n",
    "    subset = 'training'\n",
    ")\n",
    "\n",
    "validation_images = train_generator.flow_from_dataframe(\n",
    "    dataframe=train_df,\n",
    "    x_col='Filepaths',\n",
    "    y_col='Label',\n",
    "    target_size=(128,128),\n",
    "    color_mode='rgba',\n",
    "    class_mode='categorical',\n",
    "    batch_size = 32,\n",
    "    shuffle = True,\n",
    "    seed = 42,\n",
    "    subset = 'validation'\n",
    ")\n",
    "\n",
    "test_images = test_generator.flow_from_dataframe(\n",
    "    dataframe=test_df,\n",
    "    x_col='Filepaths',\n",
    "    y_col='Label',\n",
    "    target_size=(128,128),\n",
    "    color_mode='rgba',\n",
    "    class_mode='categorical',\n",
    "    batch_size = 32,\n",
    "    shuffle = False\n",
    ")"
   ]
  },
  {
   "cell_type": "code",
   "execution_count": 7,
   "id": "d2aa1403-e577-48de-95e9-44fed1a33c25",
   "metadata": {},
   "outputs": [
    {
     "data": {
      "text/plain": [
       "{'cat': 0, 'dog': 1}"
      ]
     },
     "execution_count": 7,
     "metadata": {},
     "output_type": "execute_result"
    }
   ],
   "source": [
    "train_images.class_indices"
   ]
  },
  {
   "cell_type": "markdown",
   "id": "7b7cbc89-6e60-422d-8294-d4dda22f5f1a",
   "metadata": {},
   "source": [
    "# Training"
   ]
  },
  {
   "cell_type": "code",
   "execution_count": 8,
   "id": "9a2552d7-5d45-43a1-92e4-a324ac3023cc",
   "metadata": {},
   "outputs": [
    {
     "name": "stdout",
     "output_type": "stream",
     "text": [
      "Epoch 1/14\n",
      "631/631 [==============================] - 1727s 3s/step - loss: 0.7427 - accuracy: 0.6009 - val_loss: 0.6359 - val_accuracy: 0.6294 - lr: 0.0010\n",
      "Epoch 2/14\n",
      "631/631 [==============================] - 1706s 3s/step - loss: 0.6080 - accuracy: 0.6691 - val_loss: 0.9662 - val_accuracy: 0.5197 - lr: 0.0010\n",
      "Epoch 3/14\n",
      "631/631 [==============================] - 1700s 3s/step - loss: 0.5516 - accuracy: 0.7197 - val_loss: 0.6983 - val_accuracy: 0.5997 - lr: 0.0010\n",
      "Epoch 4/14\n",
      "631/631 [==============================] - 1698s 3s/step - loss: 0.5122 - accuracy: 0.7472 - val_loss: 0.6702 - val_accuracy: 0.6005 - lr: 0.0010\n",
      "Epoch 5/14\n",
      "631/631 [==============================] - 1700s 3s/step - loss: 0.4469 - accuracy: 0.7882 - val_loss: 0.4326 - val_accuracy: 0.7948 - lr: 1.0000e-04\n",
      "Epoch 6/14\n",
      "631/631 [==============================] - 1694s 3s/step - loss: 0.4252 - accuracy: 0.8043 - val_loss: 0.4619 - val_accuracy: 0.7788 - lr: 1.0000e-04\n",
      "Epoch 7/14\n",
      "631/631 [==============================] - 1690s 3s/step - loss: 0.4140 - accuracy: 0.8084 - val_loss: 0.3925 - val_accuracy: 0.8234 - lr: 1.0000e-04\n",
      "Epoch 8/14\n",
      "631/631 [==============================] - 1689s 3s/step - loss: 0.3983 - accuracy: 0.8187 - val_loss: 0.4107 - val_accuracy: 0.8052 - lr: 1.0000e-04\n",
      "Epoch 9/14\n",
      "631/631 [==============================] - 1689s 3s/step - loss: 0.3917 - accuracy: 0.8177 - val_loss: 0.3960 - val_accuracy: 0.8189 - lr: 1.0000e-04\n",
      "Epoch 10/14\n",
      "631/631 [==============================] - 1691s 3s/step - loss: 0.3844 - accuracy: 0.8223 - val_loss: 0.3746 - val_accuracy: 0.8344 - lr: 1.0000e-04\n",
      "Epoch 11/14\n",
      "631/631 [==============================] - 1690s 3s/step - loss: 0.3771 - accuracy: 0.8281 - val_loss: 0.3810 - val_accuracy: 0.8245 - lr: 1.0000e-04\n",
      "Epoch 12/14\n",
      "631/631 [==============================] - 1690s 3s/step - loss: 0.3709 - accuracy: 0.8305 - val_loss: 0.3876 - val_accuracy: 0.8184 - lr: 1.0000e-04\n",
      "Epoch 13/14\n",
      "631/631 [==============================] - 1694s 3s/step - loss: 0.3654 - accuracy: 0.8344 - val_loss: 0.3843 - val_accuracy: 0.8335 - lr: 1.0000e-04\n",
      "Epoch 14/14\n",
      "631/631 [==============================] - 1686s 3s/step - loss: 0.3599 - accuracy: 0.8379 - val_loss: 0.3326 - val_accuracy: 0.8591 - lr: 1.0000e-05\n"
     ]
    }
   ],
   "source": [
    "output_size = 2\n",
    "hidden_layer_size = 512\n",
    "inputs = (128,128,4)\n",
    "\n",
    "model = tf.keras.Sequential([\n",
    "    tf.keras.layers.Conv2D(filters = 128, kernel_size = (6,6), activation = 'relu', input_shape = inputs),\n",
    "    tf.keras.layers.BatchNormalization(),\n",
    "    tf.keras.layers.MaxPool2D(pool_size=(2,2)),\n",
    "    tf.keras.layers.Dropout(0.2),\n",
    "    \n",
    "    tf.keras.layers.Conv2D(filters = 128, kernel_size = (5,5), activation = 'relu'),\n",
    "    tf.keras.layers.BatchNormalization(),\n",
    "    tf.keras.layers.MaxPool2D(pool_size=(3,3)),\n",
    "    tf.keras.layers.Dropout(0.2),\n",
    "    \n",
    "    tf.keras.layers.Conv2D(filters = 64, kernel_size = (4,4), activation = 'relu'),\n",
    "    tf.keras.layers.BatchNormalization(),\n",
    "    tf.keras.layers.MaxPool2D(pool_size=(4,4)),\n",
    "    tf.keras.layers.Dropout(0.2),\n",
    "    \n",
    "    #tf.keras.layers.GlobalAveragePooling2D(),\n",
    "    \n",
    "    tf.keras.layers.Flatten(),\n",
    "    tf.keras.layers.Dense(hidden_layer_size, activation='relu'),\n",
    "    tf.keras.layers.BatchNormalization(),\n",
    "    tf.keras.layers.Dropout(0.2),\n",
    "    tf.keras.layers.Dense(output_size, activation='softmax')\n",
    "])\n",
    "\n",
    "model.compile(\n",
    "    optimizer = 'adam',\n",
    "    loss = 'categorical_crossentropy',\n",
    "    metrics = ['accuracy']\n",
    ")\n",
    "\n",
    "history = model.fit(\n",
    "    train_images,\n",
    "    validation_data = validation_images,\n",
    "    epochs = 14,\n",
    "    callbacks = [\n",
    "        tf.keras.callbacks.EarlyStopping(\n",
    "            monitor = 'val_loss',\n",
    "            patience=5,\n",
    "            restore_best_weights=True\n",
    "        ),\n",
    "        tf.keras.callbacks.ReduceLROnPlateau(\n",
    "            monitor = 'val_loss',\n",
    "            patience = 3\n",
    "        )\n",
    "    ]\n",
    ")"
   ]
  },
  {
   "cell_type": "code",
   "execution_count": 9,
   "id": "70b70411-2d2d-4c41-9986-b8e49ad5ee8c",
   "metadata": {},
   "outputs": [],
   "source": [
    "import matplotlib.pyplot as plt"
   ]
  },
  {
   "cell_type": "code",
   "execution_count": 10,
   "id": "330613c7-bbf7-48c7-a283-c751a7d53eb2",
   "metadata": {},
   "outputs": [
    {
     "data": {
      "image/png": "[encoded data removed]",
      "text/plain": [
       "<Figure size 432x288 with 1 Axes>"
      ]
     },
     "metadata": {
      "needs_background": "light"
     },
     "output_type": "display_data"
    }
   ],
   "source": [
    "plt.plot(history.history['accuracy'], label = 'accuracy training')\n",
    "plt.plot(history.history['val_accuracy'], label = 'accuracy validation')\n",
    "plt.legend()\n",
    "plt.show()"
   ]
  },
  {
   "cell_type": "code",
   "execution_count": 11,
   "id": "60eaf6de-fc0c-4fb3-b250-86a553329a33",
   "metadata": {},
   "outputs": [
    {
     "data": {
      "image/png": "[encoded data removed]",
      "text/plain": [
       "<Figure size 432x288 with 1 Axes>"
      ]
     },
     "metadata": {
      "needs_background": "light"
     },
     "output_type": "display_data"
    }
   ],
   "source": [
    "plt.plot(history.history['loss'], label = 'loss training')\n",
    "plt.plot(history.history['val_loss'], label = 'loss validation')\n",
    "plt.legend()\n",
    "plt.show()"
   ]
  },
  {
   "cell_type": "code",
   "execution_count": null,
   "id": "c5462584-7733-4898-bc87-8930f4c67305",
   "metadata": {},
   "outputs": [
    {
     "name": "stdout",
     "output_type": "stream",
     "text": [
      "INFO:tensorflow:Assets written to: Conv2D-first-model\\assets\n"
     ]
    }
   ],
   "source": [
    "model.save('Conv2D-first')"
   ]
  }
 ],
 "metadata": {
  "kernelspec": {
   "display_name": "Python 3 (ipykernel)",
   "language": "python",
   "name": "python3"
  },
  "language_info": {
   "codemirror_mode": {
    "name": "ipython",
    "version": 3
   },
   "file_extension": ".py",
   "mimetype": "text/x-python",
   "name": "python",
   "nbconvert_exporter": "python",
   "pygments_lexer": "ipython3",
   "version": "3.9.7"
  }
 },
 "nbformat": 4,
 "nbformat_minor": 5
}
