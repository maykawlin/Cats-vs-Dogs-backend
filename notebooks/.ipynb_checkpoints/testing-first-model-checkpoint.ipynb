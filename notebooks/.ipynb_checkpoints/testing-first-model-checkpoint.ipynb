{
 "cells": [
  {
   "cell_type": "code",
   "execution_count": 6,
   "id": "12f55387-b77c-432d-8321-1f9aba071997",
   "metadata": {},
   "outputs": [],
   "source": [
    "import tensorflow as tf\n",
    "from PIL import Image"
   ]
  },
  {
   "cell_type": "code",
   "execution_count": 3,
   "id": "3d278c13-9ac3-4185-81d7-349bf9f07bcb",
   "metadata": {},
   "outputs": [],
   "source": [
    "model = tf.keras.models.load_model('../Conv2D-first-model/')"
   ]
  },
  {
   "cell_type": "code",
   "execution_count": 5,
   "id": "ecac75d7-df6f-4792-884b-e5430e13ea27",
   "metadata": {},
   "outputs": [
    {
     "name": "stdout",
     "output_type": "stream",
     "text": [
      "Model: \"sequential\"\n",
      "_________________________________________________________________\n",
      " Layer (type)                Output Shape              Param #   \n",
      "=================================================================\n",
      " conv2d (Conv2D)             (None, 123, 123, 128)     18560     \n",
      "                                                                 \n",
      " batch_normalization (BatchN  (None, 123, 123, 128)    512       \n",
      " ormalization)                                                   \n",
      "                                                                 \n",
      " max_pooling2d (MaxPooling2D  (None, 61, 61, 128)      0         \n",
      " )                                                               \n",
      "                                                                 \n",
      " dropout (Dropout)           (None, 61, 61, 128)       0         \n",
      "                                                                 \n",
      " conv2d_1 (Conv2D)           (None, 57, 57, 128)       409728    \n",
      "                                                                 \n",
      " batch_normalization_1 (Batc  (None, 57, 57, 128)      512       \n",
      " hNormalization)                                                 \n",
      "                                                                 \n",
      " max_pooling2d_1 (MaxPooling  (None, 19, 19, 128)      0         \n",
      " 2D)                                                             \n",
      "                                                                 \n",
      " dropout_1 (Dropout)         (None, 19, 19, 128)       0         \n",
      "                                                                 \n",
      " conv2d_2 (Conv2D)           (None, 16, 16, 64)        131136    \n",
      "                                                                 \n",
      " batch_normalization_2 (Batc  (None, 16, 16, 64)       256       \n",
      " hNormalization)                                                 \n",
      "                                                                 \n",
      " max_pooling2d_2 (MaxPooling  (None, 4, 4, 64)         0         \n",
      " 2D)                                                             \n",
      "                                                                 \n",
      " dropout_2 (Dropout)         (None, 4, 4, 64)          0         \n",
      "                                                                 \n",
      " flatten (Flatten)           (None, 1024)              0         \n",
      "                                                                 \n",
      " dense (Dense)               (None, 512)               524800    \n",
      "                                                                 \n",
      " batch_normalization_3 (Batc  (None, 512)              2048      \n",
      " hNormalization)                                                 \n",
      "                                                                 \n",
      " dropout_3 (Dropout)         (None, 512)               0         \n",
      "                                                                 \n",
      " dense_1 (Dense)             (None, 2)                 1026      \n",
      "                                                                 \n",
      "=================================================================\n",
      "Total params: 1,088,578\n",
      "Trainable params: 1,086,914\n",
      "Non-trainable params: 1,664\n",
      "_________________________________________________________________\n"
     ]
    }
   ],
   "source": [
    "model.summary()"
   ]
  },
  {
   "cell_type": "code",
   "execution_count": 11,
   "id": "7168b89b-67f9-4619-9cda-23130c59e37b",
   "metadata": {},
   "outputs": [],
   "source": [
    "def prepro_img():\n",
    "    img = Image.open(\"../dataset/test1/2.jpg\")\n",
    "    (width, height) = (img.width // 255, img.height // 255)\n",
    "    img_resized = img.resize((width, height))\n",
    "    return img_resized.show()"
   ]
  },
  {
   "cell_type": "code",
   "execution_count": 12,
   "id": "7fdfc445-bf5c-4303-bf80-253a2cb0ecae",
   "metadata": {},
   "outputs": [],
   "source": [
    "prepro_img()"
   ]
  },
  {
   "cell_type": "code",
   "execution_count": null,
   "id": "fe2ef880-32c8-44fc-818c-323a577bb7be",
   "metadata": {},
   "outputs": [],
   "source": []
  }
 ],
 "metadata": {
  "kernelspec": {
   "display_name": "Python 3 (ipykernel)",
   "language": "python",
   "name": "python3"
  },
  "language_info": {
   "codemirror_mode": {
    "name": "ipython",
    "version": 3
   },
   "file_extension": ".py",
   "mimetype": "text/x-python",
   "name": "python",
   "nbconvert_exporter": "python",
   "pygments_lexer": "ipython3",
   "version": "3.9.7"
  }
 },
 "nbformat": 4,
 "nbformat_minor": 5
}
