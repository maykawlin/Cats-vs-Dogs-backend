{
 "cells": [
  {
   "cell_type": "code",
   "execution_count": 1,
   "id": "12f55387-b77c-432d-8321-1f9aba071997",
   "metadata": {},
   "outputs": [],
   "source": [
    "import tensorflow as tf\n",
    "from PIL import Image\n",
    "import numpy as np\n",
    "import pandas as pd"
   ]
  },
  {
   "cell_type": "code",
   "execution_count": 2,
   "id": "3d278c13-9ac3-4185-81d7-349bf9f07bcb",
   "metadata": {},
   "outputs": [],
   "source": [
    "model = tf.keras.models.load_model('../Conv2D-first-model/')"
   ]
  },
  {
   "cell_type": "code",
   "execution_count": 3,
   "id": "ecac75d7-df6f-4792-884b-e5430e13ea27",
   "metadata": {},
   "outputs": [
    {
     "name": "stdout",
     "output_type": "stream",
     "text": [
      "Model: \"sequential\"\n",
      "_________________________________________________________________\n",
      " Layer (type)                Output Shape              Param #   \n",
      "=================================================================\n",
      " conv2d (Conv2D)             (None, 123, 123, 128)     18560     \n",
      "                                                                 \n",
      " batch_normalization (BatchN  (None, 123, 123, 128)    512       \n",
      " ormalization)                                                   \n",
      "                                                                 \n",
      " max_pooling2d (MaxPooling2D  (None, 61, 61, 128)      0         \n",
      " )                                                               \n",
      "                                                                 \n",
      " dropout (Dropout)           (None, 61, 61, 128)       0         \n",
      "                                                                 \n",
      " conv2d_1 (Conv2D)           (None, 57, 57, 128)       409728    \n",
      "                                                                 \n",
      " batch_normalization_1 (Batc  (None, 57, 57, 128)      512       \n",
      " hNormalization)                                                 \n",
      "                                                                 \n",
      " max_pooling2d_1 (MaxPooling  (None, 19, 19, 128)      0         \n",
      " 2D)                                                             \n",
      "                                                                 \n",
      " dropout_1 (Dropout)         (None, 19, 19, 128)       0         \n",
      "                                                                 \n",
      " conv2d_2 (Conv2D)           (None, 16, 16, 64)        131136    \n",
      "                                                                 \n",
      " batch_normalization_2 (Batc  (None, 16, 16, 64)       256       \n",
      " hNormalization)                                                 \n",
      "                                                                 \n",
      " max_pooling2d_2 (MaxPooling  (None, 4, 4, 64)         0         \n",
      " 2D)                                                             \n",
      "                                                                 \n",
      " dropout_2 (Dropout)         (None, 4, 4, 64)          0         \n",
      "                                                                 \n",
      " flatten (Flatten)           (None, 1024)              0         \n",
      "                                                                 \n",
      " dense (Dense)               (None, 512)               524800    \n",
      "                                                                 \n",
      " batch_normalization_3 (Batc  (None, 512)              2048      \n",
      " hNormalization)                                                 \n",
      "                                                                 \n",
      " dropout_3 (Dropout)         (None, 512)               0         \n",
      "                                                                 \n",
      " dense_1 (Dense)             (None, 2)                 1026      \n",
      "                                                                 \n",
      "=================================================================\n",
      "Total params: 1,088,578\n",
      "Trainable params: 1,086,914\n",
      "Non-trainable params: 1,664\n",
      "_________________________________________________________________\n"
     ]
    }
   ],
   "source": [
    "model.summary()"
   ]
  },
  {
   "cell_type": "code",
   "execution_count": 170,
   "id": "7168b89b-67f9-4619-9cda-23130c59e37b",
   "metadata": {},
   "outputs": [],
   "source": [
    "Path = [\"../dataset/test1/12086.jpg\",\"../dataset/test1/12089.jpg\",\"../dataset/test1/12106.jpg\",\"../dataset/test1/12101.jpg\"]\n",
    "def prepro_img(path):\n",
    "    img = []\n",
    "    for i in path:\n",
    "        image = Image.open(i).resize((128, 128)).convert('RGBA')\n",
    "        image = np.array(image)\n",
    "        image = image[np.newaxis,...]\n",
    "        img.append(image)\n",
    "    return img"
   ]
  },
  {
   "cell_type": "code",
   "execution_count": 171,
   "id": "575f2f17-d5ea-4b01-b82e-a6fbb6026ac7",
   "metadata": {},
   "outputs": [],
   "source": [
    "images = prepro_img(Path)"
   ]
  },
  {
   "cell_type": "code",
   "execution_count": 172,
   "id": "6c122868-c4ea-4118-b010-d19f83899d96",
   "metadata": {},
   "outputs": [],
   "source": [
    "predict = []\n",
    "for image in images:\n",
    "    predict.append(model.predict(image))"
   ]
  },
  {
   "cell_type": "code",
   "execution_count": 173,
   "id": "08bb2773-7ac4-45b5-98ae-1c94901b86c2",
   "metadata": {},
   "outputs": [],
   "source": [
    "def result(prediction):\n",
    "    results = pd.DataFrame(np.squeeze(prediction), columns = ['Dog','Cat'])\n",
    "    result = []\n",
    "    for i in range(len(results)):\n",
    "        if results['Dog'].iloc[i] > results['Cat'].iloc[i]:\n",
    "            result.append('Is a Dog!')\n",
    "        else:\n",
    "            result.append('Is a Cat!')\n",
    "    return result"
   ]
  },
  {
   "cell_type": "code",
   "execution_count": 174,
   "id": "dc9f1f8b-60eb-464c-bab0-75aa4621370d",
   "metadata": {},
   "outputs": [
    {
     "data": {
      "text/plain": [
       "['Is a Dog!', 'Is a Dog!', 'Is a Cat!', 'Is a Cat!']"
      ]
     },
     "execution_count": 174,
     "metadata": {},
     "output_type": "execute_result"
    }
   ],
   "source": [
    "result(predict)"
   ]
  },
  {
   "cell_type": "code",
   "execution_count": null,
   "id": "1844b6fd-d361-42f8-8a04-8517d18d1957",
   "metadata": {},
   "outputs": [],
   "source": []
  }
 ],
 "metadata": {
  "kernelspec": {
   "display_name": "Python 3 (ipykernel)",
   "language": "python",
   "name": "python3"
  },
  "language_info": {
   "codemirror_mode": {
    "name": "ipython",
    "version": 3
   },
   "file_extension": ".py",
   "mimetype": "text/x-python",
   "name": "python",
   "nbconvert_exporter": "python",
   "pygments_lexer": "ipython3",
   "version": "3.9.7"
  }
 },
 "nbformat": 4,
 "nbformat_minor": 5
}
